{
 "cells": [
  {
   "cell_type": "markdown",
   "id": "2c2ccf98-193c-4ac2-9fc8-1e9589916c5f",
   "metadata": {
    "editable": true,
    "slideshow": {
     "slide_type": ""
    },
    "tags": []
   },
   "source": [
    "## Step 2: Combine releases into a single feather file\n",
    "\n",
    "* Read all Common Crawl releases into the same dataframe, and deduplicate based on URL and file contents"
   ]
  },
  {
   "cell_type": "code",
   "execution_count": 15,
   "id": "e265aa15-714b-4080-b22d-bf662f916e66",
   "metadata": {},
   "outputs": [
    {
     "name": "stdout",
     "output_type": "stream",
     "text": [
      "INFO: Pandarallel will run on 8 workers.\n",
      "INFO: Pandarallel will use standard multiprocessing data transfer (pipe) to transfer data between the main process and workers.\n"
     ]
    }
   ],
   "source": [
    "import os\n",
    "import pandas as pd\n",
    "\n",
    "# To parse GPX strings\n",
    "import gpxpy\n",
    "\n",
    "# For parallel_apply() in pandas\n",
    "from pandarallel import pandarallel\n",
    "pandarallel.initialize(progress_bar=True)\n",
    "\n",
    "# To parse descriptions\n",
    "from bs4 import BeautifulSoup\n",
    "\n",
    "# To identify text language\n",
    "import pycld2 as cld2 # pip install git+https://github.com/tmikus/pycld2.git"
   ]
  },
  {
   "cell_type": "markdown",
   "id": "3d15df38-a719-462b-bf85-14eebbf1a713",
   "metadata": {},
   "source": [
    "### Quick stats"
   ]
  },
  {
   "cell_type": "code",
   "execution_count": 16,
   "id": "d9ab2378-23f2-4b8b-b096-a902239e98b1",
   "metadata": {},
   "outputs": [],
   "source": [
    "dir = './interim/'\n",
    "\n",
    "urls = (\n",
    "    pd.concat([\n",
    "        pd.read_feather(f'{dir}{r}') for r in os.listdir(dir) \\\n",
    "            if 'CC-MAIN-' in r and r.endswith('feather')\n",
    "    ])\n",
    ")"
   ]
  },
  {
   "cell_type": "code",
   "execution_count": 32,
   "id": "31f4edd6-43c6-444d-90af-114ceaa631c0",
   "metadata": {},
   "outputs": [
    {
     "name": "stdout",
     "output_type": "stream",
     "text": [
      "Total files: 112953\n",
      "Downloaded files: 111102\n",
      "Downloaded files %: 98.4\n",
      "Unique URLs among downloaded: 102103\n",
      "Unique URLs among downloaded %: 91.9\n"
     ]
    }
   ],
   "source": [
    "print('Total files:', urls.shape[0])\n",
    "print('Downloaded files:', (~urls.responses.isna()).sum())\n",
    "print('Downloaded files %:', round((~urls.responses.isna()).sum() / urls.shape[0] * 100, 1))\n",
    "print('Unique URLs among downloaded:', urls.query('~responses.isna()').url.nunique())\n",
    "print('Unique URLs among downloaded %:', round(urls.query('~responses.isna()').url.nunique() / (~urls.responses.isna()).sum() * 100, 1))"
   ]
  },
  {
   "cell_type": "markdown",
   "id": "9bbad6b0-c218-4080-ba1b-6028646aa6d3",
   "metadata": {},
   "source": [
    "### Combine releases & deduplicate"
   ]
  },
  {
   "cell_type": "code",
   "execution_count": 33,
   "id": "59248543-3b72-40dd-8b64-312f63602df9",
   "metadata": {},
   "outputs": [],
   "source": [
    "dir = './interim/'\n",
    "\n",
    "urls = (\n",
    "    pd.concat([\n",
    "        pd.read_feather(f'{dir}{r}') for r in os.listdir(dir) \\\n",
    "            if 'CC-MAIN-' in r and r.endswith('feather')\n",
    "    ])\n",
    "    .drop_duplicates(subset=['responses'])\n",
    "    .drop_duplicates(subset=['url'])\n",
    "    .reset_index()\n",
    "    .drop(columns=['index'])\n",
    ")"
   ]
  },
  {
   "cell_type": "code",
   "execution_count": 34,
   "id": "45fff93e-436e-4414-b98e-766a34029961",
   "metadata": {},
   "outputs": [
    {
     "name": "stdout",
     "output_type": "stream",
     "text": [
      "Number of files after deduplication: 94170\n"
     ]
    }
   ],
   "source": [
    "print('Number of files after deduplication:', urls.shape[0])"
   ]
  },
  {
   "cell_type": "markdown",
   "id": "306fa247-f4d3-4476-80ab-dfc67f07466d",
   "metadata": {},
   "source": [
    "### Convert respones to GPX objects, and extract metadata"
   ]
  },
  {
   "cell_type": "code",
   "execution_count": 4,
   "id": "7742e58e-b1b4-4774-b9c5-d2ade2bf19d3",
   "metadata": {},
   "outputs": [],
   "source": [
    "def get_gpx_metadata(s):\n",
    "    try:\n",
    "        gpx = gpxpy.parse(s)\n",
    "        md = gpx.get_moving_data()\n",
    "\n",
    "        # How many points are there in the first track?\n",
    "        pts_in_first_track = sum(\n",
    "            [ len(segment.points) for track in gpx.tracks[:1] for segment in track.segments ]\n",
    "        )\n",
    "\n",
    "        # What is the average number of points per 100 m in first track?\n",
    "        pts_per_100m = pts_in_first_track / gpx.tracks[0].length_2d() * 100\n",
    "        \n",
    "        return {\n",
    "            'n_tracks': len(gpx.tracks),\n",
    "            'pts_per_100m': pts_per_100m,\n",
    "            'description': gpx.description,\n",
    "            'length_2d': round(gpx.length_2d())\n",
    "        }\n",
    "    except:\n",
    "        return None"
   ]
  },
  {
   "cell_type": "code",
   "execution_count": 5,
   "id": "a917e541-5b8f-4529-ae6e-5f9a795231f6",
   "metadata": {},
   "outputs": [
    {
     "data": {
      "application/vnd.jupyter.widget-view+json": {
       "model_id": "cc3f76b9998545aa91a1cc34836106dc",
       "version_major": 2,
       "version_minor": 0
      },
      "text/plain": [
       "VBox(children=(HBox(children=(IntProgress(value=0, description='0.00%', max=11772), Label(value='0 / 11772')))…"
      ]
     },
     "metadata": {},
     "output_type": "display_data"
    },
    {
     "name": "stdout",
     "output_type": "stream",
     "text": [
      "CPU times: user 4.67 s, sys: 12.6 s, total: 17.2 s\n",
      "Wall time: 8min 6s\n"
     ]
    }
   ],
   "source": [
    "%%time\n",
    "urls['gpx_metadata'] = urls.responses.parallel_apply(get_gpx_metadata)"
   ]
  },
  {
   "cell_type": "code",
   "execution_count": 6,
   "id": "710f29b4-575e-4e7c-952c-022bb9a50514",
   "metadata": {},
   "outputs": [],
   "source": [
    "urls['length_2d'] = urls.gpx_metadata.str['length_2d']\n",
    "urls['pts_per_100m'] = urls.gpx_metadata.str['pts_per_100m']\n",
    "urls['n_tracks'] = urls.gpx_metadata.str['n_tracks']"
   ]
  },
  {
   "cell_type": "markdown",
   "id": "6ad5b714-20d4-4bbb-acb3-9d3e1ff9e321",
   "metadata": {},
   "source": [
    "### Clean up the descriptions"
   ]
  },
  {
   "cell_type": "code",
   "execution_count": 7,
   "id": "094745b9-fcb4-4597-9f8b-6b020f52e0a2",
   "metadata": {},
   "outputs": [],
   "source": [
    "%%capture\n",
    "\n",
    "def clean_description(desc):\n",
    "    \"\"\"\n",
    "    Returns a clean text description with HTML tags removed\n",
    "    \"\"\"\n",
    "    try:\n",
    "        desc = BeautifulSoup(desc).get_text()\n",
    "        desc = desc.replace('\\n', ' ').replace('\\t', ' ').replace('\\xa0', ' ')\n",
    "        desc = desc.replace(\"l\\'\", ' ')\n",
    "        desc = ' '.join(desc.strip().split())\n",
    "        return desc\n",
    "    except:\n",
    "        return None\n",
    "\n",
    "urls['description'] = urls.gpx_metadata.str['description'].apply(clean_description)\n",
    "\n",
    "# Remove contents in square brackets using regex\n",
    "urls.description = urls.description.str.replace(r'\\[.*?\\]', '', regex=True)\n",
    "\n",
    "# Remove contents in curly brackets using regex\n",
    "urls.description = urls.description.str.replace(r'\\{.*?\\}', '', regex=True)\n",
    "\n",
    "# Strip trailing spaces\n",
    "urls.description = urls.description.str.strip()"
   ]
  },
  {
   "cell_type": "markdown",
   "id": "8cdabfba-2fa6-433d-82b9-c87481e3d36a",
   "metadata": {},
   "source": [
    "### Establish relevant description lengths"
   ]
  },
  {
   "cell_type": "code",
   "execution_count": 8,
   "id": "79fd6ac8-2fe9-4c97-873e-02b70f1ff230",
   "metadata": {},
   "outputs": [
    {
     "name": "stdout",
     "output_type": "stream",
     "text": [
      "Length at 99.0, 99.1, 99.2 percentiles:  1915 2074 2283\n"
     ]
    }
   ],
   "source": [
    "# We want descriptions of over 50 characters\n",
    "# and ignore those that are too long (over 99th percentile ~ 2000 characters)\n",
    "print(\n",
    "    'Length at 99.0, 99.1, 99.2 percentiles: ',\n",
    "    round(urls.description.str.len().quantile(0.990)),\n",
    "    round(urls.description.str.len().quantile(0.991)),\n",
    "    round(urls.description.str.len().quantile(0.992))\n",
    ")\n",
    "\n",
    "cap_value = 2000\n",
    "urls['is_desc_long_enough'] = (\n",
    "    urls.description.str.len().ge(50)\n",
    "    & urls.description.str.len().le(cap_value)\n",
    ")"
   ]
  },
  {
   "cell_type": "markdown",
   "id": "0f8b5b64-df0e-430d-9aec-12aa76b03cb0",
   "metadata": {},
   "source": [
    "### Identify source description language\n",
    "* We want to exclude tracks whose description language is Unknown by `pycld2` (these are typically low quality)"
   ]
  },
  {
   "cell_type": "code",
   "execution_count": 9,
   "id": "e6838ede-a4e2-4a3d-97be-2f891aa4feb5",
   "metadata": {},
   "outputs": [],
   "source": [
    "def detect_language(s):\n",
    "    try:\n",
    "        _, _, lang = cld2.detect(str(s))\n",
    "        return lang[0][1]\n",
    "    except:\n",
    "        return 'un' # Unknown language\n",
    "\n",
    "urls['description_lang'] = 'un' # Set all to Unknown first\n",
    "\n",
    "# For descriptions of appropriate length, guess language\n",
    "idx = urls.is_desc_long_enough\n",
    "urls.loc[idx , 'description_lang'] = urls.loc[idx, 'description'].apply(detect_language)"
   ]
  },
  {
   "cell_type": "code",
   "execution_count": 10,
   "id": "52ad863b-8785-4e4f-8ebd-d2cf7427c8e6",
   "metadata": {},
   "outputs": [
    {
     "data": {
      "text/plain": [
       "un         89808\n",
       "de          1910\n",
       "fr          1651\n",
       "en           334\n",
       "uk           144\n",
       "it            85\n",
       "ru            48\n",
       "cs            32\n",
       "sl            29\n",
       "sk            26\n",
       "nl            17\n",
       "hu            16\n",
       "es            14\n",
       "pl            13\n",
       "hr             8\n",
       "jw             6\n",
       "ro             6\n",
       "sv             5\n",
       "nn             4\n",
       "zh-Hant        2\n",
       "bg             2\n",
       "war            2\n",
       "gl             2\n",
       "da             1\n",
       "no             1\n",
       "rm             1\n",
       "ca             1\n",
       "el             1\n",
       "co             1\n",
       "Name: description_lang, dtype: int64"
      ]
     },
     "execution_count": 10,
     "metadata": {},
     "output_type": "execute_result"
    }
   ],
   "source": [
    "urls.description_lang.value_counts()"
   ]
  },
  {
   "cell_type": "markdown",
   "id": "73659235-ab91-4512-9ce2-63e712f9a630",
   "metadata": {},
   "source": [
    "### Keep only relevant GPX files, and save to `interim/relevant_subset.feather`\n",
    "* We want tracks with descriptions between 50-2000 characters\n",
    "* With only 1 track\n",
    "* Length is between 0.5km - 100km\n",
    "* Description language is not *Unknown*\n",
    "* At least 1 GPS point per 100 metres"
   ]
  },
  {
   "cell_type": "code",
   "execution_count": 11,
   "id": "5a9eaeb6-dc8b-4f72-8465-a9e878ae272d",
   "metadata": {},
   "outputs": [],
   "source": [
    "relevant_subset = (\n",
    "    urls\n",
    "    .query('is_desc_long_enough')\n",
    "    .query('n_tracks.eq(1)')\n",
    "    .query('pts_per_100m.ge(1.0)')\n",
    "    .query('length_2d.ge(500) & length_2d.le(100000)')\n",
    "    .query('length_2d.ge(500) & length_2d.le(100000)')\n",
    "    .query('description_lang.ne(\"un\")')\n",
    "    .reset_index()\n",
    "    .drop(columns=['index'])\n",
    ")"
   ]
  },
  {
   "cell_type": "code",
   "execution_count": 12,
   "id": "8113c7f4-4350-4f5b-be4f-d63e967fd057",
   "metadata": {},
   "outputs": [
    {
     "data": {
      "text/html": [
       "<div>\n",
       "<style scoped>\n",
       "    .dataframe tbody tr th:only-of-type {\n",
       "        vertical-align: middle;\n",
       "    }\n",
       "\n",
       "    .dataframe tbody tr th {\n",
       "        vertical-align: top;\n",
       "    }\n",
       "\n",
       "    .dataframe thead th {\n",
       "        text-align: right;\n",
       "    }\n",
       "</style>\n",
       "<table border=\"1\" class=\"dataframe\">\n",
       "  <thead>\n",
       "    <tr style=\"text-align: right;\">\n",
       "      <th></th>\n",
       "      <th>url</th>\n",
       "      <th>content_mime_type</th>\n",
       "      <th>content_mime_detected</th>\n",
       "      <th>warc_filename</th>\n",
       "      <th>warc_record_offset</th>\n",
       "      <th>warc_record_length</th>\n",
       "      <th>responses</th>\n",
       "      <th>gpx_metadata</th>\n",
       "      <th>length_2d</th>\n",
       "      <th>pts_per_100m</th>\n",
       "      <th>n_tracks</th>\n",
       "      <th>description</th>\n",
       "      <th>is_desc_long_enough</th>\n",
       "      <th>description_lang</th>\n",
       "    </tr>\n",
       "  </thead>\n",
       "  <tbody>\n",
       "    <tr>\n",
       "      <th>0</th>\n",
       "      <td>https://www.massalubrenseturismo.it/wp-content...</td>\n",
       "      <td>application/gpx+xml</td>\n",
       "      <td>application/gpx+xml</td>\n",
       "      <td>crawl-data/CC-MAIN-2024-10/segments/1707947475...</td>\n",
       "      <td>869644243</td>\n",
       "      <td>3465</td>\n",
       "      <td>&lt;?xml version=\"1.0\"?&gt;\\n&lt;gpx xmlns=\"http://www....</td>\n",
       "      <td>{'n_tracks': 1, 'pts_per_100m': 10.18349861760...</td>\n",
       "      <td>1669.0</td>\n",
       "      <td>10.183499</td>\n",
       "      <td>1.0</td>\n",
       "      <td>Cala di Mitigliano is the right place to go if...</td>\n",
       "      <td>True</td>\n",
       "      <td>en</td>\n",
       "    </tr>\n",
       "    <tr>\n",
       "      <th>1</th>\n",
       "      <td>https://www.tv-markdorf.de/leichtathletik/GB_V...</td>\n",
       "      <td>application/gpx+xml</td>\n",
       "      <td>application/gpx+xml</td>\n",
       "      <td>crawl-data/CC-MAIN-2024-10/segments/1707947475...</td>\n",
       "      <td>1022531609</td>\n",
       "      <td>4227</td>\n",
       "      <td>&lt;?xml version=\"1.0\"?&gt;\\r\\n&lt;gpx xmlns=\"http://ww...</td>\n",
       "      <td>{'n_tracks': 1, 'pts_per_100m': 3.848005470158...</td>\n",
       "      <td>8914.0</td>\n",
       "      <td>3.848005</td>\n",
       "      <td>1.0</td>\n",
       "      <td>Laufstrecke Erwachsene (Hauptlauf und Walking)...</td>\n",
       "      <td>True</td>\n",
       "      <td>de</td>\n",
       "    </tr>\n",
       "    <tr>\n",
       "      <th>2</th>\n",
       "      <td>https://www.tv-markdorf.de/leichtathletik/GB_V...</td>\n",
       "      <td>application/gpx+xml</td>\n",
       "      <td>application/gpx+xml</td>\n",
       "      <td>crawl-data/CC-MAIN-2024-10/segments/1707947475...</td>\n",
       "      <td>1028648267</td>\n",
       "      <td>2124</td>\n",
       "      <td>&lt;?xml version=\"1.0\"?&gt;\\n&lt;gpx xmlns=\"http://www....</td>\n",
       "      <td>{'n_tracks': 1, 'pts_per_100m': 6.303227603769...</td>\n",
       "      <td>2332.0</td>\n",
       "      <td>6.303228</td>\n",
       "      <td>1.0</td>\n",
       "      <td>Wettkampfstrecke für den Markdorfer Gehrenberg...</td>\n",
       "      <td>True</td>\n",
       "      <td>de</td>\n",
       "    </tr>\n",
       "    <tr>\n",
       "      <th>3</th>\n",
       "      <td>https://www.weggis-vitznau.ch/de/detail/poi/16...</td>\n",
       "      <td>application/gpx+xml</td>\n",
       "      <td>application/gpx+xml</td>\n",
       "      <td>crawl-data/CC-MAIN-2024-10/segments/1707947473...</td>\n",
       "      <td>1107219602</td>\n",
       "      <td>4914</td>\n",
       "      <td>&lt;?xml version=\"1.0\" encoding=\"UTF-8\"?&gt;\\n&lt;gpx x...</td>\n",
       "      <td>{'n_tracks': 1, 'pts_per_100m': 5.622297100355...</td>\n",
       "      <td>6705.0</td>\n",
       "      <td>5.622297</td>\n",
       "      <td>1.0</td>\n",
       "      <td>Der aussichtsreiche Aufstieg von Weggis nach R...</td>\n",
       "      <td>True</td>\n",
       "      <td>de</td>\n",
       "    </tr>\n",
       "    <tr>\n",
       "      <th>4</th>\n",
       "      <td>https://www.weggis-vitznau.ch/en/detail/poi/16...</td>\n",
       "      <td>application/gpx+xml</td>\n",
       "      <td>application/gpx+xml</td>\n",
       "      <td>crawl-data/CC-MAIN-2024-10/segments/1707947473...</td>\n",
       "      <td>1125700907</td>\n",
       "      <td>4914</td>\n",
       "      <td>&lt;?xml version=\"1.0\" encoding=\"UTF-8\"?&gt;\\n&lt;gpx x...</td>\n",
       "      <td>{'n_tracks': 1, 'pts_per_100m': 5.622297100355...</td>\n",
       "      <td>6705.0</td>\n",
       "      <td>5.622297</td>\n",
       "      <td>1.0</td>\n",
       "      <td>The ascent from Weggis to Rigi Kaltbad passes ...</td>\n",
       "      <td>True</td>\n",
       "      <td>en</td>\n",
       "    </tr>\n",
       "    <tr>\n",
       "      <th>...</th>\n",
       "      <td>...</td>\n",
       "      <td>...</td>\n",
       "      <td>...</td>\n",
       "      <td>...</td>\n",
       "      <td>...</td>\n",
       "      <td>...</td>\n",
       "      <td>...</td>\n",
       "      <td>...</td>\n",
       "      <td>...</td>\n",
       "      <td>...</td>\n",
       "      <td>...</td>\n",
       "      <td>...</td>\n",
       "      <td>...</td>\n",
       "      <td>...</td>\n",
       "    </tr>\n",
       "    <tr>\n",
       "      <th>3091</th>\n",
       "      <td>http://www.wandelenindoorwerth.nl/wandelroutes...</td>\n",
       "      <td>application/gpx+xml</td>\n",
       "      <td>application/gpx+xml</td>\n",
       "      <td>crawl-data/CC-MAIN-2023-14/segments/1679296945...</td>\n",
       "      <td>98721736</td>\n",
       "      <td>19665</td>\n",
       "      <td>&lt;?xml version=\"1.0\" encoding=\"UTF-8\"?&gt;\\n\\n&lt;gpx...</td>\n",
       "      <td>{'n_tracks': 1, 'pts_per_100m': 2.742253566249...</td>\n",
       "      <td>9700.0</td>\n",
       "      <td>2.742254</td>\n",
       "      <td>1.0</td>\n",
       "      <td>In de gemeente Renkum zijn vele oude bomen, ee...</td>\n",
       "      <td>True</td>\n",
       "      <td>nl</td>\n",
       "    </tr>\n",
       "    <tr>\n",
       "      <th>3092</th>\n",
       "      <td>http://www.wandeleninoosterbeek.nl/wandelroute...</td>\n",
       "      <td>application/gpx+xml</td>\n",
       "      <td>application/gpx+xml</td>\n",
       "      <td>crawl-data/CC-MAIN-2023-14/segments/1679296950...</td>\n",
       "      <td>96350674</td>\n",
       "      <td>9971</td>\n",
       "      <td>&lt;?xml version=\"1.0\" encoding=\"UTF-8\"?&gt;\\n\\n&lt;gpx...</td>\n",
       "      <td>{'n_tracks': 1, 'pts_per_100m': 2.744365127605...</td>\n",
       "      <td>4336.0</td>\n",
       "      <td>2.744365</td>\n",
       "      <td>1.0</td>\n",
       "      <td>Ook in Oosterbeek landden massaal parachutiste...</td>\n",
       "      <td>True</td>\n",
       "      <td>nl</td>\n",
       "    </tr>\n",
       "    <tr>\n",
       "      <th>3093</th>\n",
       "      <td>http://www.wandeleninoosterbeek.nl/wandelroute...</td>\n",
       "      <td>application/gpx+xml</td>\n",
       "      <td>application/gpx+xml</td>\n",
       "      <td>crawl-data/CC-MAIN-2023-14/segments/1679296950...</td>\n",
       "      <td>100561887</td>\n",
       "      <td>12332</td>\n",
       "      <td>&lt;?xml version=\"1.0\" encoding=\"UTF-8\"?&gt;\\n\\n&lt;gpx...</td>\n",
       "      <td>{'n_tracks': 1, 'pts_per_100m': 2.876903412149...</td>\n",
       "      <td>5318.0</td>\n",
       "      <td>2.876903</td>\n",
       "      <td>1.0</td>\n",
       "      <td>Landgoed de Vijverberg heet niet voor niets Vi...</td>\n",
       "      <td>True</td>\n",
       "      <td>nl</td>\n",
       "    </tr>\n",
       "    <tr>\n",
       "      <th>3094</th>\n",
       "      <td>https://www.datocms-assets.com/25489/162809011...</td>\n",
       "      <td>application/gpx+xml</td>\n",
       "      <td>application/gpx+xml</td>\n",
       "      <td>crawl-data/CC-MAIN-2023-14/segments/1679296945...</td>\n",
       "      <td>804035533</td>\n",
       "      <td>14262</td>\n",
       "      <td>&lt;?xml version=\"1.0\"?&gt;\\n&lt;gpx xmlns=\"http://www....</td>\n",
       "      <td>{'n_tracks': 1, 'pts_per_100m': 1.840742658275...</td>\n",
       "      <td>65354.0</td>\n",
       "      <td>1.840743</td>\n",
       "      <td>1.0</td>\n",
       "      <td>Tato trasa je zpracována do videa, odkaz níže....</td>\n",
       "      <td>True</td>\n",
       "      <td>cs</td>\n",
       "    </tr>\n",
       "    <tr>\n",
       "      <th>3095</th>\n",
       "      <td>https://relaisduvisiteur.be/wp-content/uploads...</td>\n",
       "      <td>application/gpx+xml</td>\n",
       "      <td>application/gpx+xml</td>\n",
       "      <td>crawl-data/CC-MAIN-2023-14/segments/1679296948...</td>\n",
       "      <td>565374760</td>\n",
       "      <td>2979</td>\n",
       "      <td>&lt;?xml version=\"1.0\" encoding=\"UTF-8\" standalon...</td>\n",
       "      <td>{'n_tracks': 1, 'pts_per_100m': 1.079225855352...</td>\n",
       "      <td>16771.0</td>\n",
       "      <td>1.079226</td>\n",
       "      <td>1.0</td>\n",
       "      <td>Distance : 16,8 km. Dénivelé: 102 mDifficulté ...</td>\n",
       "      <td>True</td>\n",
       "      <td>fr</td>\n",
       "    </tr>\n",
       "  </tbody>\n",
       "</table>\n",
       "<p>3096 rows × 14 columns</p>\n",
       "</div>"
      ],
      "text/plain": [
       "                                                    url    content_mime_type  \\\n",
       "0     https://www.massalubrenseturismo.it/wp-content...  application/gpx+xml   \n",
       "1     https://www.tv-markdorf.de/leichtathletik/GB_V...  application/gpx+xml   \n",
       "2     https://www.tv-markdorf.de/leichtathletik/GB_V...  application/gpx+xml   \n",
       "3     https://www.weggis-vitznau.ch/de/detail/poi/16...  application/gpx+xml   \n",
       "4     https://www.weggis-vitznau.ch/en/detail/poi/16...  application/gpx+xml   \n",
       "...                                                 ...                  ...   \n",
       "3091  http://www.wandelenindoorwerth.nl/wandelroutes...  application/gpx+xml   \n",
       "3092  http://www.wandeleninoosterbeek.nl/wandelroute...  application/gpx+xml   \n",
       "3093  http://www.wandeleninoosterbeek.nl/wandelroute...  application/gpx+xml   \n",
       "3094  https://www.datocms-assets.com/25489/162809011...  application/gpx+xml   \n",
       "3095  https://relaisduvisiteur.be/wp-content/uploads...  application/gpx+xml   \n",
       "\n",
       "     content_mime_detected                                      warc_filename  \\\n",
       "0      application/gpx+xml  crawl-data/CC-MAIN-2024-10/segments/1707947475...   \n",
       "1      application/gpx+xml  crawl-data/CC-MAIN-2024-10/segments/1707947475...   \n",
       "2      application/gpx+xml  crawl-data/CC-MAIN-2024-10/segments/1707947475...   \n",
       "3      application/gpx+xml  crawl-data/CC-MAIN-2024-10/segments/1707947473...   \n",
       "4      application/gpx+xml  crawl-data/CC-MAIN-2024-10/segments/1707947473...   \n",
       "...                    ...                                                ...   \n",
       "3091   application/gpx+xml  crawl-data/CC-MAIN-2023-14/segments/1679296945...   \n",
       "3092   application/gpx+xml  crawl-data/CC-MAIN-2023-14/segments/1679296950...   \n",
       "3093   application/gpx+xml  crawl-data/CC-MAIN-2023-14/segments/1679296950...   \n",
       "3094   application/gpx+xml  crawl-data/CC-MAIN-2023-14/segments/1679296945...   \n",
       "3095   application/gpx+xml  crawl-data/CC-MAIN-2023-14/segments/1679296948...   \n",
       "\n",
       "      warc_record_offset  warc_record_length  \\\n",
       "0              869644243                3465   \n",
       "1             1022531609                4227   \n",
       "2             1028648267                2124   \n",
       "3             1107219602                4914   \n",
       "4             1125700907                4914   \n",
       "...                  ...                 ...   \n",
       "3091            98721736               19665   \n",
       "3092            96350674                9971   \n",
       "3093           100561887               12332   \n",
       "3094           804035533               14262   \n",
       "3095           565374760                2979   \n",
       "\n",
       "                                              responses  \\\n",
       "0     <?xml version=\"1.0\"?>\\n<gpx xmlns=\"http://www....   \n",
       "1     <?xml version=\"1.0\"?>\\r\\n<gpx xmlns=\"http://ww...   \n",
       "2     <?xml version=\"1.0\"?>\\n<gpx xmlns=\"http://www....   \n",
       "3     <?xml version=\"1.0\" encoding=\"UTF-8\"?>\\n<gpx x...   \n",
       "4     <?xml version=\"1.0\" encoding=\"UTF-8\"?>\\n<gpx x...   \n",
       "...                                                 ...   \n",
       "3091  <?xml version=\"1.0\" encoding=\"UTF-8\"?>\\n\\n<gpx...   \n",
       "3092  <?xml version=\"1.0\" encoding=\"UTF-8\"?>\\n\\n<gpx...   \n",
       "3093  <?xml version=\"1.0\" encoding=\"UTF-8\"?>\\n\\n<gpx...   \n",
       "3094  <?xml version=\"1.0\"?>\\n<gpx xmlns=\"http://www....   \n",
       "3095  <?xml version=\"1.0\" encoding=\"UTF-8\" standalon...   \n",
       "\n",
       "                                           gpx_metadata  length_2d  \\\n",
       "0     {'n_tracks': 1, 'pts_per_100m': 10.18349861760...     1669.0   \n",
       "1     {'n_tracks': 1, 'pts_per_100m': 3.848005470158...     8914.0   \n",
       "2     {'n_tracks': 1, 'pts_per_100m': 6.303227603769...     2332.0   \n",
       "3     {'n_tracks': 1, 'pts_per_100m': 5.622297100355...     6705.0   \n",
       "4     {'n_tracks': 1, 'pts_per_100m': 5.622297100355...     6705.0   \n",
       "...                                                 ...        ...   \n",
       "3091  {'n_tracks': 1, 'pts_per_100m': 2.742253566249...     9700.0   \n",
       "3092  {'n_tracks': 1, 'pts_per_100m': 2.744365127605...     4336.0   \n",
       "3093  {'n_tracks': 1, 'pts_per_100m': 2.876903412149...     5318.0   \n",
       "3094  {'n_tracks': 1, 'pts_per_100m': 1.840742658275...    65354.0   \n",
       "3095  {'n_tracks': 1, 'pts_per_100m': 1.079225855352...    16771.0   \n",
       "\n",
       "      pts_per_100m  n_tracks  \\\n",
       "0        10.183499       1.0   \n",
       "1         3.848005       1.0   \n",
       "2         6.303228       1.0   \n",
       "3         5.622297       1.0   \n",
       "4         5.622297       1.0   \n",
       "...            ...       ...   \n",
       "3091      2.742254       1.0   \n",
       "3092      2.744365       1.0   \n",
       "3093      2.876903       1.0   \n",
       "3094      1.840743       1.0   \n",
       "3095      1.079226       1.0   \n",
       "\n",
       "                                            description  is_desc_long_enough  \\\n",
       "0     Cala di Mitigliano is the right place to go if...                 True   \n",
       "1     Laufstrecke Erwachsene (Hauptlauf und Walking)...                 True   \n",
       "2     Wettkampfstrecke für den Markdorfer Gehrenberg...                 True   \n",
       "3     Der aussichtsreiche Aufstieg von Weggis nach R...                 True   \n",
       "4     The ascent from Weggis to Rigi Kaltbad passes ...                 True   \n",
       "...                                                 ...                  ...   \n",
       "3091  In de gemeente Renkum zijn vele oude bomen, ee...                 True   \n",
       "3092  Ook in Oosterbeek landden massaal parachutiste...                 True   \n",
       "3093  Landgoed de Vijverberg heet niet voor niets Vi...                 True   \n",
       "3094  Tato trasa je zpracována do videa, odkaz níže....                 True   \n",
       "3095  Distance : 16,8 km. Dénivelé: 102 mDifficulté ...                 True   \n",
       "\n",
       "     description_lang  \n",
       "0                  en  \n",
       "1                  de  \n",
       "2                  de  \n",
       "3                  de  \n",
       "4                  en  \n",
       "...               ...  \n",
       "3091               nl  \n",
       "3092               nl  \n",
       "3093               nl  \n",
       "3094               cs  \n",
       "3095               fr  \n",
       "\n",
       "[3096 rows x 14 columns]"
      ]
     },
     "execution_count": 12,
     "metadata": {},
     "output_type": "execute_result"
    }
   ],
   "source": [
    "relevant_subset"
   ]
  },
  {
   "cell_type": "code",
   "execution_count": 14,
   "id": "54e10d4c-4661-4a4a-9ad2-3d8f1dd66ae2",
   "metadata": {},
   "outputs": [],
   "source": [
    "relevant_subset.to_feather('interim/relevant_subset.feather')"
   ]
  },
  {
   "cell_type": "code",
   "execution_count": null,
   "id": "ad42ace3-2e38-4341-a715-97edaed56c92",
   "metadata": {},
   "outputs": [],
   "source": []
  }
 ],
 "metadata": {
  "kernelspec": {
   "display_name": "Python 3 (ipykernel)",
   "language": "python",
   "name": "python3"
  },
  "language_info": {
   "codemirror_mode": {
    "name": "ipython",
    "version": 3
   },
   "file_extension": ".py",
   "mimetype": "text/x-python",
   "name": "python",
   "nbconvert_exporter": "python",
   "pygments_lexer": "ipython3",
   "version": "3.11.5"
  }
 },
 "nbformat": 4,
 "nbformat_minor": 5
}
