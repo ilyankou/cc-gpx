{
 "cells": [
  {
   "cell_type": "markdown",
   "id": "68c44fd3-91fb-442e-8c86-e978716b8147",
   "metadata": {},
   "source": [
    "## Step 3: QA our subset with an LLM\n",
    "\n",
    "* We let the LLM decide if the description is of an activity (hiking, cycling, etc)\n",
    "* ~We use ~Mistral 7B Instruct~ Llama 3 8B Instruct run with Ollama (see https://ollama.com/)~\n",
    "* In terminal, run `ollama run llama3`"
   ]
  },
  {
   "cell_type": "code",
   "execution_count": 1,
   "id": "b2542c17-63f1-4f81-9cef-4ea1962f0d07",
   "metadata": {
    "editable": true,
    "slideshow": {
     "slide_type": ""
    },
    "tags": []
   },
   "outputs": [],
   "source": [
    "import pandas as pd\n",
    "import requests\n",
    "import json\n",
    "\n",
    "# For progress_apply() in pandas\n",
    "from tqdm import tqdm\n",
    "tqdm.pandas()"
   ]
  },
  {
   "cell_type": "code",
   "execution_count": 35,
   "id": "c016ff6b-6219-4ea9-9b25-233d86bd80e7",
   "metadata": {},
   "outputs": [],
   "source": [
    "relevant_subset = pd.read_feather('./interim/relevant_subset.feather')"
   ]
  },
  {
   "cell_type": "code",
   "execution_count": 36,
   "id": "07d85e40-130e-4a92-a374-77befa6f0d2a",
   "metadata": {},
   "outputs": [],
   "source": [
    "def ask_llm(prompt, limit=9999):\n",
    "    \"\"\"\n",
    "    Sends the `prompt` to the LLM running locally via Ollama.\n",
    "    Temperature = 0 to get consistent output between runs.\n",
    "    Works much faster for shorter limits, so consider\n",
    "    setting to 1 for True/False queries\n",
    "    \"\"\"\n",
    "    response = requests.post(\n",
    "        url='http://localhost:11434/api/generate',\n",
    "        json={\n",
    "            'model': 'llama3',\n",
    "            'prompt': prompt,\n",
    "            'stream': False,\n",
    "            'options': {\n",
    "                'temperature': 0,\n",
    "                'seed': 42,\n",
    "                'num_predict': limit\n",
    "            }\n",
    "        }\n",
    "    )\n",
    "    \n",
    "    return json.loads(response.text).get('response').strip()\n",
    "\n",
    "def is_activity_description(text):\n",
    "    prompt = f\"\"\"\n",
    "    Does the text in triple quotes represent a high-quality and insightful\n",
    "    route or track description, or an activity description such as hiking,\n",
    "    cycling, or racing? Respond with `True` or `False`.\n",
    "    If you are unsure, say `False`.\n",
    "    Text: ```{text}```\n",
    "    \"\"\"\n",
    "    return ask_llm(prompt, 1)\n",
    "\n",
    "\n",
    "def contains_personal_info(text):\n",
    "    prompt = f\"\"\"\n",
    "    Does the text in triple quotes contain any personal information,\n",
    "    such as someone's address or name? Respond with `True` or `False`.\n",
    "    If you are unsure, say `True`.\n",
    "    Text: ```{text}```\n",
    "    \"\"\"\n",
    "    return ask_llm(prompt, 1)"
   ]
  },
  {
   "cell_type": "markdown",
   "id": "8365953f-d50c-4f04-b6b1-7146298c5ed5",
   "metadata": {},
   "source": [
    "### Determine if GPX description resembles an activity description\n",
    "We only want relevant descriptions that actually describe the activity"
   ]
  },
  {
   "cell_type": "code",
   "execution_count": 37,
   "id": "499edd22-eef1-4ca4-b4b0-8594986f5e32",
   "metadata": {},
   "outputs": [
    {
     "name": "stderr",
     "output_type": "stream",
     "text": [
      "100%|███████████████████████████████████████| 3096/3096 [24:56<00:00,  2.07it/s]\n"
     ]
    }
   ],
   "source": [
    "relevant_subset['is_activity_description'] = (\n",
    "    relevant_subset.description.progress_apply(is_activity_description)\n",
    ")"
   ]
  },
  {
   "cell_type": "markdown",
   "id": "394b2f35-8afb-4876-bb49-3627f3a1583a",
   "metadata": {},
   "source": [
    "#### Let's look at what the LLM has decided"
   ]
  },
  {
   "cell_type": "code",
   "execution_count": 42,
   "id": "eda6b963-0384-4a53-b502-2264e319872c",
   "metadata": {},
   "outputs": [
    {
     "data": {
      "text/plain": [
       "['Have a walk through the smallest city of Europe and discover its history and monuments.',\n",
       " 'Route by MC Van Rossem & Thierry Dutrieux Our third Atomium ride will take us to Zemst, Rumst, Boom and Willebroek. In Boom we’ll pass by the Velodroom museum, nice street art and a hidden statue of the tin can man 🤖 We’ll be using mostly “jaagpads” along the canal and quiet country roads. This itinerary is flat but can be quite windy.',\n",
       " 'This trail leading to the borough of Kukleny takes in significant industrial buildings evoking the glory of the iron and leather industries, as well as family houses, a funeral hall, and a Cubist vocational school.',\n",
       " 'This route between Holborn and Angel stays away from the major sights and goes on quieter roads, including some interesting lesser known streets through Finsbury.',\n",
       " 'The Gibloux botanical trail presents typical trees of our woods on a 5.4 km hike.']"
      ]
     },
     "execution_count": 42,
     "metadata": {},
     "output_type": "execute_result"
    }
   ],
   "source": [
    "(\n",
    "    relevant_subset\n",
    "    .query('is_activity_description == \"True\" and description_lang == \"en\"')\n",
    "    .sample(5)\n",
    "    .description\n",
    "    .to_list()\n",
    ")"
   ]
  },
  {
   "cell_type": "code",
   "execution_count": 48,
   "id": "6ce8fa36-41d4-49b2-8d56-41232e1214f7",
   "metadata": {},
   "outputs": [
    {
     "data": {
      "text/plain": [
       "'False'"
      ]
     },
     "execution_count": 48,
     "metadata": {},
     "output_type": "execute_result"
    }
   ],
   "source": [
    "is_activity_description('Note check opening times of Manor Park Cremitorium')"
   ]
  },
  {
   "cell_type": "code",
   "execution_count": 50,
   "id": "73100b18-e544-48f0-b490-85f2a454b729",
   "metadata": {},
   "outputs": [
    {
     "data": {
      "text/plain": [
       "False    1574\n",
       "True     1521\n",
       "`           1\n",
       "Name: is_activity_description, dtype: int64"
      ]
     },
     "execution_count": 50,
     "metadata": {},
     "output_type": "execute_result"
    }
   ],
   "source": [
    "relevant_subset.is_activity_description.value_counts()"
   ]
  },
  {
   "cell_type": "code",
   "execution_count": 49,
   "id": "b7883fc6-1ac7-4df8-957d-f3d7debc2778",
   "metadata": {},
   "outputs": [],
   "source": [
    "# Save just in case\n",
    "relevant_subset.to_feather('./interim/relevant_subset_llm_checkpoint.feather')"
   ]
  },
  {
   "cell_type": "markdown",
   "id": "4d49d39b-4dc7-43af-afb1-68d700d0fb4b",
   "metadata": {},
   "source": [
    "### For those that resemble an activity, check for personal info\n",
    "We don't want any descriptions with personal information"
   ]
  },
  {
   "cell_type": "code",
   "execution_count": 51,
   "id": "8e10ba4b-724b-4b11-a924-06a20899f650",
   "metadata": {},
   "outputs": [
    {
     "name": "stderr",
     "output_type": "stream",
     "text": [
      "100%|███████████████████████████████████████| 1521/1521 [21:42<00:00,  1.17it/s]\n"
     ]
    }
   ],
   "source": [
    "idx = relevant_subset.is_activity_description.eq('True')\n",
    "\n",
    "relevant_subset.loc[idx, 'contains_personal_info'] = relevant_subset\\\n",
    "    .loc[idx, 'description'].progress_apply(contains_personal_info)"
   ]
  },
  {
   "cell_type": "code",
   "execution_count": 52,
   "id": "7a523c92-f742-4b89-8af5-222a815ce8b7",
   "metadata": {},
   "outputs": [
    {
     "data": {
      "text/plain": [
       "False    1483\n",
       "True       38\n",
       "Name: contains_personal_info, dtype: int64"
      ]
     },
     "execution_count": 52,
     "metadata": {},
     "output_type": "execute_result"
    }
   ],
   "source": [
    "relevant_subset.contains_personal_info.value_counts()"
   ]
  },
  {
   "cell_type": "code",
   "execution_count": 57,
   "id": "b1863225-9435-4a1c-ae32-ba0f52a36967",
   "metadata": {},
   "outputs": [],
   "source": [
    "# Save just in case\n",
    "relevant_subset.to_feather('./interim/relevant_subset_llm_checkpoint.feather')"
   ]
  },
  {
   "cell_type": "markdown",
   "id": "a973332d-a3c6-4444-8048-82a5360396a2",
   "metadata": {},
   "source": [
    "### 💾 Save final\n",
    "We reset index because feather wants it default"
   ]
  },
  {
   "cell_type": "code",
   "execution_count": 58,
   "id": "a227d74c-2030-4ecc-b997-145341cd42b1",
   "metadata": {},
   "outputs": [],
   "source": [
    "(relevant_subset\n",
    " .to_feather('./interim/relevant_subset_llm.feather')\n",
    ")"
   ]
  },
  {
   "cell_type": "code",
   "execution_count": null,
   "id": "46cac53c-f94e-4abd-bf1a-63b628033d47",
   "metadata": {},
   "outputs": [],
   "source": []
  }
 ],
 "metadata": {
  "kernelspec": {
   "display_name": "Python 3 (ipykernel)",
   "language": "python",
   "name": "python3"
  },
  "language_info": {
   "codemirror_mode": {
    "name": "ipython",
    "version": 3
   },
   "file_extension": ".py",
   "mimetype": "text/x-python",
   "name": "python",
   "nbconvert_exporter": "python",
   "pygments_lexer": "ipython3",
   "version": "3.11.5"
  }
 },
 "nbformat": 4,
 "nbformat_minor": 5
}
